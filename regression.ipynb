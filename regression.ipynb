{
 "metadata": {
  "language_info": {
   "codemirror_mode": {
    "name": "ipython",
    "version": 3
   },
   "file_extension": ".py",
   "mimetype": "text/x-python",
   "name": "python",
   "nbconvert_exporter": "python",
   "pygments_lexer": "ipython3",
   "version": "3.6.9-final"
  },
  "orig_nbformat": 2,
  "kernelspec": {
   "name": "python3",
   "display_name": "Python 3.6.9 64-bit",
   "metadata": {
    "interpreter": {
     "hash": "31f2aee4e71d21fbe5cf8b01ff0e069b9275f58929596ceb00d14d90e3e16cd6"
    }
   }
  }
 },
 "nbformat": 4,
 "nbformat_minor": 2,
 "cells": [
  {
   "cell_type": "code",
   "execution_count": 2,
   "metadata": {},
   "outputs": [],
   "source": [
    "from sklearn.base import BaseEstimator, RegressorMixin\n",
    "\n",
    "class KRR(BaseEstimator, RegressorMixin):\n",
    "\n",
    "    def __init__(self, sigma, lamb, kernel_func):\n",
    "\n",
    "        self.sigma        = sigma\n",
    "        self.lamb         = lamb\n",
    "        self.kernel_func  = kernel_func\n",
    "        \n",
    "\n",
    "    def get_params(self, deep=True):\n",
    "\n",
    "        return {\"sigma\": self.sigma, \"lamb\": self.lamb, \"kernel_func\":self.kernel_func}\n",
    "\n",
    "    def set_params(self, **parameters):\n",
    "\n",
    "        self.sigma        = parameters[\"sigma\"]\n",
    "        self.lamb         = parameters[\"lamb\"]      \n",
    "        self.kernel_func  = parameters[\"kernel_func\"]\n",
    "        \n",
    "        return self\n",
    "    \n",
    "    def fit(self, X, y):\n",
    "\n",
    "        Kernel_train  = self.kernel_func(X,X, self.sigma)\n",
    "    \n",
    "\n",
    "        for i in range(Kernel_train.shape[0]):\n",
    "            Kernel_train[i, i] -= self.lamb\n",
    "   \n",
    "        self.ALPHA_SOL = np.linalg.solve(Kernel_train, y)\n",
    "        self.XTRAIN    = X\n",
    "        \n",
    "        return self\n",
    "    \n",
    "    def predict(self, X):\n",
    "\n",
    "        Kernel_test     = self.kernel_func(self.XTRAIN, X, self.sigma)\n",
    "        return np.dot(self.ALPHA_SOL, Kernel_test)\n",
    "    \n",
    "    def kpca(self, X):\n",
    "        Kernel_train  = self.kernel_func(X,X, self.sigma)\n",
    "\n",
    "        from sklearn.decomposition import PCA\n",
    "\n",
    "        pca     = PCA(n_components=2)\n",
    "        kpca    = pca.fit_transform(Kernel_train)\n",
    "\n",
    "        return kpca"
   ]
  }
 ]
}