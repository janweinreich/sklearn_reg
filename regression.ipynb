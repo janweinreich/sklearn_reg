{
 "cells": [
  {
   "cell_type": "code",
   "execution_count": 1,
   "metadata": {},
   "outputs": [],
   "source": [
    "from sklearn.base import BaseEstimator, RegressorMixin\n",
    "from sklearn.model_selection import GridSearchCV\n",
    "from sklearn.pipeline import Pipeline\n",
    "from sklearn.model_selection import KFold\n",
    "from qml.kernels import gaussian_kernel\n",
    "import numpy as np\n",
    "\n",
    "\n",
    "class KRR(BaseEstimator, RegressorMixin):\n",
    "    \n",
    "    def __init__(self, kernel_func = None, sigma=None, lamb=None, kpca_ncmps=None, bst_mod = None):\n",
    "\n",
    "\n",
    "\n",
    "        \"\"\"\n",
    "        User must provide a kernelfunction, \n",
    "        sigma and lambda are optinal for initialization\n",
    "        \"\"\"\n",
    "\n",
    "        self.kernel_func  = kernel_func or gaussian_kernel       # kernelfunction, no default\n",
    "        self.sigma        = sigma or 1.0                         # sigma value, 1 default\n",
    "        self.lamb         = lamb  or 1e-7                        # lambda value, 1e-7 default\n",
    "        self.kpca_ncmps   = kpca_ncmps or 2                      # number of components for kpca, 2 default\n",
    "        self.bst_mod      = bst_mod or 0           \n",
    "        \n",
    "        \n",
    "        \"\"\"\n",
    "        get_params and set_params are used by sklearn e.g. for hyperparameter\n",
    "        optimization\n",
    "        \"\"\"\n",
    "\n",
    "    def get_params(self, deep=True):\n",
    "\n",
    "        return {\"kernel_func\":self.kernel_func,\"sigma\": self.sigma, \"lamb\": self.lamb}\n",
    "\n",
    "    def set_params(self, **parameters):\n",
    "\n",
    "        self.kernel_func   = parameters[\"kernel_func\"]\n",
    "        self.sigma         = parameters[\"sigma\"]\n",
    "        self.lamb          = parameters[\"lamb\"]      \n",
    "        \n",
    "        \n",
    "        return self\n",
    "\n",
    "        \"\"\"\n",
    "        Obtain the regression coefficients alpha and\n",
    "        save the training representations because they are \n",
    "        needed for predictions\n",
    "        \"\"\"\n",
    "    \n",
    "    def fit(self, X, y):\n",
    "\n",
    "        Kernel_train  = self.kernel_func(X,X, self.sigma)\n",
    "\n",
    "        for i in range(Kernel_train.shape[0]):\n",
    "            Kernel_train[i, i] += self.lamb\n",
    "\n",
    "   \n",
    "        self.ALPHA_SOL = np.linalg.solve(Kernel_train, y)\n",
    "        self.XTRAIN    = X\n",
    "        \n",
    "        self.Kernel_train = Kernel_train\n",
    "        return self\n",
    "    \n",
    "        \"\"\"\n",
    "        Make the predictions for query representations Xry\n",
    "        \"\"\"\n",
    "\n",
    "    def predict(self, Xqry):\n",
    "\n",
    "        Kernel_test     = self.kernel_func(self.XTRAIN, Xqry, self.sigma)\n",
    "        pred            = np.dot(self.ALPHA_SOL, Kernel_test)\n",
    "        \n",
    "        return pred\n",
    "    \n",
    "        \"\"\"\n",
    "        Make a kernel-pca, by first going to kernel space and \n",
    "        performing a pca afterwards, by default \n",
    "        returns the first two components\n",
    "        \"\"\"\n",
    "\n",
    "    def kpca(self, X):\n",
    "        from sklearn.decomposition import PCA\n",
    "\n",
    "        try:\n",
    "            \n",
    "            self.Kernel_train.shape()\n",
    "            pca     = PCA(n_components=self.kpca_ncmps)\n",
    "            kpca    = pca.fit_transform(self.Kernel_train)\n",
    "\n",
    "            print(\"Used old Kernel for KPCA\")\n",
    "\n",
    "        except:        \n",
    "            print(\"Compute new Kernel and store after KPCA\")\n",
    "\n",
    "            self.Kernel_train  = self.kernel_func(X,X, self.sigma)\n",
    "            pca     = PCA(n_components=self.kpca_ncmps)\n",
    "            kpca    = pca.fit_transform(self.Kernel_train)        \n",
    "        \n",
    "        return kpca"
   ]
  },
  {
   "cell_type": "markdown",
   "metadata": {},
   "source": [
    "**1 d funktion  Example**"
   ]
  },
  {
   "cell_type": "code",
   "execution_count": 9,
   "metadata": {},
   "outputs": [
    {
     "name": "stdout",
     "output_type": "stream",
     "text": [
      "Fitting 5 folds for each of 40 candidates, totalling 200 fits\n"
     ]
    },
    {
     "name": "stderr",
     "output_type": "stream",
     "text": [
      "[Parallel(n_jobs=1)]: Using backend SequentialBackend with 1 concurrent workers.\n"
     ]
    },
    {
     "name": "stdout",
     "output_type": "stream",
     "text": [
      "KRR(kernel_func=<function kernel_1d_fct_gauss at 0x7fbdac44cea0>, lamb=1e-08,\n",
      "    sigma=21.54434690031882)\n",
      "21.54434690031882\n",
      "1e-08\n"
     ]
    },
    {
     "name": "stderr",
     "output_type": "stream",
     "text": [
      "[Parallel(n_jobs=1)]: Done 200 out of 200 | elapsed:    0.4s finished\n"
     ]
    }
   ],
   "source": [
    "import numpy as np\n",
    "import numpy.linalg as LA\n",
    "from sklearn.model_selection import train_test_split\n",
    "import matplotlib.pyplot as plt\n",
    "#import numba\n",
    "#from numba import jit\n",
    "#from math import sqrt\n",
    "\n",
    "\n",
    "#@jit\n",
    "def fast_distance(xa, xb):\n",
    "\n",
    "    if len(xa.shape) == 1:\n",
    "        measure = abs\n",
    "    else:\n",
    "        measure = LA.norm\n",
    "\n",
    "\n",
    "    dmat = np.zeros((len(xa),len(xb) ))\n",
    "\n",
    "    if np.array_equal(xa, xb):\n",
    "        for i in range(len(xa)):\n",
    "            for j in range(i+1, len(xb)):\n",
    "                curr_d = measure(xa[i]-xb[j])\n",
    "                dmat[i, j] = curr_d\n",
    "                dmat[j, i] = curr_d\n",
    "\n",
    "    else:\n",
    "        for i in range(len(xa)):\n",
    "            for j in range(len(xb)):\n",
    "                curr_d = measure(xa[i]-xb[j])\n",
    "                dmat[i, j] = curr_d\n",
    "\n",
    "    return dmat\n",
    "\n",
    "\n",
    "\n",
    "\n",
    "def kernel_1d_fct_laplace(Xa, Xb, sigma):\n",
    "\n",
    "    dist = fast_distance(Xa, Xb)\n",
    "    \n",
    "    return np.exp(-sigma* dist)\n",
    "\n",
    "\n",
    "def kernel_1d_fct_gauss(Xa, Xb, sigma):\n",
    "\n",
    "    dist = fast_distance(Xa, Xb)\n",
    "    \n",
    "    return np.exp(-sigma* dist**2)    \n",
    "    \n",
    "ndata = 50\n",
    "X = np.linspace(1, 7, ndata)\n",
    "# make a function that is complicated to fit and add some noise\n",
    "y = -5 *np.exp(-X)*np.sin(-X)*np.cos(X**2)   +  np.random.normal(0,1e-8,ndata)\n",
    "\n",
    "\n",
    "regressor = KRR(kernel_1d_fct_laplace)\n",
    "\n",
    "X_train, X_test, y_train, y_test = train_test_split(X, y, test_size=0.7,shuffle=True, random_state=666)\n",
    "param_grid = [{\"krr__sigma\": np.logspace(-4, 4, 10), \"krr__lamb\":np.logspace(-8, -6, 2), \"krr__kernel_func\": [kernel_1d_fct_laplace,kernel_1d_fct_gauss ]}]\n",
    "pipe = Pipeline([ ('krr', regressor) ])\n",
    "grid_search = 0\n",
    "grid_search = GridSearchCV(pipe, param_grid, cv = 5, return_train_score=True, verbose=1)\n",
    "grid_search.fit(X_train, y_train)\n",
    "best_model = grid_search.best_estimator_\n",
    "\n",
    "print(best_model['krr'])\n",
    "print(best_model['krr'].sigma)\n",
    "print(best_model['krr'].lamb)\n",
    "y_pred = best_model['krr'].predict(X_test)"
   ]
  },
  {
   "cell_type": "markdown",
   "metadata": {},
   "source": [
    "## Get the kernel CV optimized kernel paramters"
   ]
  },
  {
   "cell_type": "code",
   "execution_count": 10,
   "metadata": {},
   "outputs": [
    {
     "name": "stdout",
     "output_type": "stream",
     "text": [
      "<function kernel_1d_fct_gauss at 0x7fbdac44cea0>\n",
      "21.54434690031882\n",
      "1e-08\n"
     ]
    }
   ],
   "source": [
    "print(best_model.get_params()['krr__kernel_func'])\n",
    "print(best_model.get_params()['krr__sigma'])\n",
    "print(best_model.get_params()['krr__lamb'])"
   ]
  },
  {
   "cell_type": "code",
   "execution_count": 11,
   "metadata": {},
   "outputs": [
    {
     "data": {
      "text/plain": [
       "<matplotlib.legend.Legend at 0x7fbdac423f28>"
      ]
     },
     "execution_count": 11,
     "metadata": {},
     "output_type": "execute_result"
    },
    {
     "data": {
      "image/png": "[encoded data removed]",
      "text/plain": [
       "<Figure size 432x288 with 1 Axes>"
      ]
     },
     "metadata": {
      "needs_background": "light"
     },
     "output_type": "display_data"
    }
   ],
   "source": [
    "plt.plot(X, y, \"-\")\n",
    "plt.plot( X_test, y_test,  \"*\",ms=15,label='test')\n",
    "plt.plot( X_test, y_pred,  \"+\",ms=15,label='predicted')\n",
    "plt.legend(fontsize=20)"
   ]
  },
  {
   "cell_type": "markdown",
   "metadata": {},
   "source": [
    "## Perform a KPCA using the kernel"
   ]
  },
  {
   "cell_type": "code",
   "execution_count": 8,
   "metadata": {},
   "outputs": [
    {
     "name": "stdout",
     "output_type": "stream",
     "text": [
      "Compute new Kernel and store after KPCA\n"
     ]
    },
    {
     "data": {
      "image/png": "[encoded data removed]",
      "text/plain": [
       "<Figure size 432x288 with 2 Axes>"
      ]
     },
     "metadata": {
      "needs_background": "light"
     },
     "output_type": "display_data"
    }
   ],
   "source": [
    "fig, ax = plt.subplots()\n",
    "regressor.kpca_ncmps = 3\n",
    "two_dim = regressor.kpca(X)\n",
    "formation = ax.scatter(two_dim[:,0],two_dim[:,1],marker=\"*\", c=y,vmin=np.min(y), vmax=np.max(y), alpha=0.5, cmap='seismic')\n",
    "cbar = fig.colorbar(formation, ax=ax)"
   ]
  }
 ],
 "metadata": {
  "interpreter": {
   "hash": "8c416e8ffc8f069beb86d04c7bfd883370a045c041b435028507b5dc01075573"
  },
  "kernelspec": {
   "display_name": "Python 3.9.2 64-bit ('quantum': conda)",
   "name": "python3"
  },
  "language_info": {
   "codemirror_mode": {
    "name": "ipython",
    "version": 3
   },
   "file_extension": ".py",
   "mimetype": "text/x-python",
   "name": "python",
   "nbconvert_exporter": "python",
   "pygments_lexer": "ipython3",
   "version": "3.6.10"
  },
  "orig_nbformat": 2
 },
 "nbformat": 4,
 "nbformat_minor": 2
}